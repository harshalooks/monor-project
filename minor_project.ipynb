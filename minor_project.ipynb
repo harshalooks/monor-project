{
  "nbformat": 4,
  "nbformat_minor": 0,
  "metadata": {
    "colab": {
      "name": "minor project.ipynb",
      "provenance": [],
      "collapsed_sections": []
    },
    "kernelspec": {
      "name": "python3",
      "display_name": "Python 3"
    }
  },
  "cells": [
    {
      "cell_type": "code",
      "metadata": {
        "id": "Wyi_GhSAJhgQ"
      },
      "source": [
        "import tensorflow as tf\n",
        "import cv2\n",
        "import numpy as np\n",
        "import matplotlib.pyplot as plt\n",
        "from tensorflow.keras.models import load_model\n",
        "dataset = tf.keras.datasets.mnist"
      ],
      "execution_count": 2,
      "outputs": []
    },
    {
      "cell_type": "code",
      "metadata": {
        "id": "v_6LQkZ2J21L",
        "outputId": "1060a059-a5fd-45a7-bbc4-a6e7b7b99026",
        "colab": {
          "base_uri": "https://localhost:8080/",
          "height": 50
        }
      },
      "source": [
        "(X_train, y_train), (X_test, y_test) = dataset.load_data()"
      ],
      "execution_count": 3,
      "outputs": [
        {
          "output_type": "stream",
          "text": [
            "Downloading data from https://storage.googleapis.com/tensorflow/tf-keras-datasets/mnist.npz\n",
            "11493376/11490434 [==============================] - 0s 0us/step\n"
          ],
          "name": "stdout"
        }
      ]
    },
    {
      "cell_type": "code",
      "metadata": {
        "id": "vSmpGNdoJ-hF"
      },
      "source": [
        "X_train= X_train/255.0\n",
        "X_test= X_test/255.0"
      ],
      "execution_count": 4,
      "outputs": []
    },
    {
      "cell_type": "code",
      "metadata": {
        "id": "hOpa6XrOKBaT"
      },
      "source": [
        "X_train = X_train.reshape(X_train.shape[0], -1)\n",
        "X_test = X_test.reshape(X_test.shape[0], -1)"
      ],
      "execution_count": 5,
      "outputs": []
    },
    {
      "cell_type": "code",
      "metadata": {
        "id": "jIBI5772KEn1"
      },
      "source": [
        "from tensorflow.keras.models import Sequential\n",
        "from tensorflow.keras.layers import Dense, Dropout"
      ],
      "execution_count": 6,
      "outputs": []
    },
    {
      "cell_type": "code",
      "metadata": {
        "id": "ffIOKOO5KG2w"
      },
      "source": [
        "model = Sequential()\n",
        "model.add(Dense(128, activation='relu'))\n",
        "model.add(Dropout(0.2))\n",
        "model.add(Dense(128, activation='relu'))\n",
        "model.add(Dropout(0.2))"
      ],
      "execution_count": 7,
      "outputs": []
    },
    {
      "cell_type": "code",
      "metadata": {
        "id": "aGUts7mcKJ4y",
        "outputId": "fc314d07-4087-4c06-a924-d78404cdecae",
        "colab": {
          "base_uri": "https://localhost:8080/",
          "height": 134
        }
      },
      "source": [
        "model.add(Dense(10, activation='softmax'))\n",
        "model.compile('adam', 'sparse_categorical_crossentropy', metrics=['acc'])\n",
        "model.fit(X_train, y_train, epochs=3, batch_size=12, validation_split=0.1)"
      ],
      "execution_count": 8,
      "outputs": [
        {
          "output_type": "stream",
          "text": [
            "Epoch 1/3\n",
            "4500/4500 [==============================] - 8s 2ms/step - loss: 0.2917 - acc: 0.9120 - val_loss: 0.1151 - val_acc: 0.9670\n",
            "Epoch 2/3\n",
            "4500/4500 [==============================] - 8s 2ms/step - loss: 0.1517 - acc: 0.9539 - val_loss: 0.0897 - val_acc: 0.9745\n",
            "Epoch 3/3\n",
            "4500/4500 [==============================] - 8s 2ms/step - loss: 0.1234 - acc: 0.9623 - val_loss: 0.0894 - val_acc: 0.9770\n"
          ],
          "name": "stdout"
        },
        {
          "output_type": "execute_result",
          "data": {
            "text/plain": [
              "<tensorflow.python.keras.callbacks.History at 0x7f0edfd09e10>"
            ]
          },
          "metadata": {
            "tags": []
          },
          "execution_count": 8
        }
      ]
    },
    {
      "cell_type": "code",
      "metadata": {
        "id": "DjV4h2_EKNCL",
        "outputId": "5207d471-bbf5-4aa0-d904-44801dd47908",
        "colab": {
          "base_uri": "https://localhost:8080/",
          "height": 279
        }
      },
      "source": [
        "plt.imshow(X_test[1255].reshape(28,28), cmap='gray')\n",
        "plt.xlabel(y_test[1255])\n",
        "plt.ylabel(np.argmax(model.predict(X_test)[1255]))\n",
        "model.save('digit_trained.h5')"
      ],
      "execution_count": 9,
      "outputs": [
        {
          "output_type": "display_data",
          "data": {
            "image/png": "[encoded data removed]",
            "text/plain": [
              "<Figure size 432x288 with 1 Axes>"
            ]
          },
          "metadata": {
            "tags": [],
            "needs_background": "light"
          }
        }
      ]
    },
    {
      "cell_type": "code",
      "metadata": {
        "id": "XTy7EtcMKUdz"
      },
      "source": [
        "run = False\n",
        "ix,iy = -1,-1\n",
        "follow = 25\n",
        "img = np.zeros((512,512,1))\n",
        "### func\n",
        "def draw(event, x, y, flag, params):\n",
        "    global run,ix,iy,img,follow\n",
        "    if event == cv2.EVENT_LBUTTONDOWN:\n",
        "        run = True\n",
        "        ix, iy = x, y\n",
        "    elif event == cv2.EVENT_MOUSEMOVE:\n",
        "        if run == True:\n",
        "            cv2.circle(img, (x,y), 20, (255,255,255), -1)\n",
        "\n",
        "    elif event == cv2.EVENT_LBUTTONUP:\n",
        "        run = False\n",
        "        cv2.circle(img, (x,y), 20, (255,255,255), -1)\n",
        "        gray = cv2.resize(img, (28, 28))\n",
        "        gray = gray.reshape(1, 784)\n",
        "        result = np.argmax(model.predict(gray))\n",
        "        result = 'cnn : {}'.format(result)\n",
        "        cv2.putText(img, org=(25,follow), fontFace=cv2.FONT_HERSHEY_SIMPLEX, fontScale=1, text= result, color=(255,0,0), thickness=1)\n",
        "        follow += 25\n",
        "    elif event == cv2.EVENT_RBUTTONDOWN:\n",
        "        img = np.zeros((512,512,1))\n",
        "        follow = 25"
      ],
      "execution_count": 10,
      "outputs": []
    },
    {
      "cell_type": "code",
      "metadata": {
        "id": "MRFF6Q1uKY8U"
      },
      "source": [
        "cv2.namedWindow('image')\n",
        "cv2.setMouseCallback('image', draw)\n",
        "while True:    \n",
        "    cv2.imshow(\"image\", img) \n",
        "    if cv2.waitKey(1) == 27:\n",
        "        break\n",
        "cv2.destroyAllWindows()\n"
      ],
      "execution_count": null,
      "outputs": []
    }
  ]
}